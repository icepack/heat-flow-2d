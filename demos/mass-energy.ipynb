{
 "cells": [
  {
   "cell_type": "code",
   "execution_count": null,
   "id": "60ab88b2-6b95-4395-a9c1-31fc698449e9",
   "metadata": {},
   "outputs": [],
   "source": [
    "import numpy as np\n",
    "from numpy import pi as π\n",
    "import matplotlib.pyplot as plt\n",
    "from matplotlib.animation import FuncAnimation\n",
    "from IPython.display import HTML\n",
    "import tqdm\n",
    "import firedrake\n",
    "from firedrake import (\n",
    "    max_value, Constant, exp, sin, cos, inner, grad, dx, ds, dS, avg, jump\n",
    ")\n",
    "import irksome\n",
    "from irksome import Dt"
   ]
  },
  {
   "cell_type": "code",
   "execution_count": null,
   "id": "3d43de0f-2ba0-4aed-8fee-c94fb6e7ec52",
   "metadata": {},
   "outputs": [],
   "source": [
    "mesh = firedrake.UnitDiskMesh(4)\n",
    "n = firedrake.FacetNormal(mesh)\n",
    "fig, ax = plt.subplots()\n",
    "ax.set_aspect(\"equal\")\n",
    "firedrake.triplot(mesh, axes=ax);"
   ]
  },
  {
   "cell_type": "code",
   "execution_count": null,
   "id": "75aa9b34-9ea1-4c5a-b023-7017bba67997",
   "metadata": {},
   "outputs": [],
   "source": [
    "dg0 = firedrake.FiniteElement(\"DG\", \"triangle\", 0)\n",
    "cg1 = firedrake.FiniteElement(\"CG\", \"triangle\", 1)\n",
    "Q = firedrake.FunctionSpace(mesh, dg0)\n",
    "S = firedrake.FunctionSpace(mesh, cg1)"
   ]
  },
  {
   "cell_type": "code",
   "execution_count": null,
   "id": "75cc1c33-5c55-4fba-9144-7218525152f0",
   "metadata": {},
   "outputs": [],
   "source": [
    "x = firedrake.SpatialCoordinate(mesh)\n",
    "h_expr = Constant(1.0)\n",
    "r = Constant(0.125)\n",
    "ξ = Constant((0.25, 0.25))\n",
    "E_expr = exp(-inner(x - ξ, x - ξ) / r**2)"
   ]
  },
  {
   "cell_type": "code",
   "execution_count": null,
   "id": "4b9dfab2-04a4-47ea-a312-c7e44324521f",
   "metadata": {},
   "outputs": [],
   "source": [
    "t = firedrake.Constant(0.0)\n",
    "ξ_1 = Constant((+0.5, 0.0))\n",
    "ξ_2 = Constant((-0.5, 0.0))\n",
    "R = Constant(0.25)\n",
    "a_0 = Constant(+0.1)\n",
    "accumulation = a_0 * max_value(0, cos(t)) * exp(-inner(x - ξ_1, x - ξ_1) / R**2)\n",
    "ablation = a_0 * max_value(0, sin(t)) * exp(-inner(x - ξ_2, x - ξ_2) / R**2)\n",
    "a = accumulation - ablation"
   ]
  },
  {
   "cell_type": "code",
   "execution_count": null,
   "id": "5f9ac87a-0867-47a1-aae5-521bfb8c2e65",
   "metadata": {},
   "outputs": [],
   "source": [
    "u = firedrake.as_vector((-x[1], x[0]))"
   ]
  },
  {
   "cell_type": "code",
   "execution_count": null,
   "id": "d02d439d-a8f6-47f9-9da4-c584be535721",
   "metadata": {},
   "outputs": [],
   "source": [
    "Z = Q * Q\n",
    "z = firedrake.Function(Z)\n",
    "z.subfunctions[0].project(h_expr)\n",
    "z.subfunctions[1].project(E_expr)\n",
    "\n",
    "h, E = firedrake.split(z)\n",
    "η, ϕ = firedrake.TestFunctions(Z)"
   ]
  },
  {
   "cell_type": "code",
   "execution_count": null,
   "id": "ef648cf8-35e6-4ddd-a544-fac44eb9b2d4",
   "metadata": {},
   "outputs": [],
   "source": [
    "F_cells = h * (Dt(E) * ϕ - inner(E * u, grad(ϕ))) * dx\n",
    "f = E * firedrake.max_value(0, inner(u, n))\n",
    "F_facets = avg(h) * jump(f) * jump(ϕ) * dS\n",
    "\n",
    "F_E = F_cells + F_facets"
   ]
  },
  {
   "cell_type": "code",
   "execution_count": null,
   "id": "c30cecab-e107-4362-aa84-45004cb337aa",
   "metadata": {},
   "outputs": [],
   "source": [
    "F_cells = (Dt(h) * η - inner(h * u, grad(η)) - a * η) * dx\n",
    "f = h * firedrake.max_value(0, inner(u, n))\n",
    "F_facets = jump(f) * jump(η) * dS\n",
    "\n",
    "F_h = F_cells + F_facets"
   ]
  },
  {
   "cell_type": "code",
   "execution_count": null,
   "id": "23b78183-a3e9-4c2c-962b-291dadb2fd79",
   "metadata": {},
   "outputs": [],
   "source": [
    "F = F_E + F_h"
   ]
  },
  {
   "cell_type": "code",
   "execution_count": null,
   "id": "265061d8-cd03-4170-aa82-f8de9a930ca1",
   "metadata": {},
   "outputs": [],
   "source": [
    "method = irksome.BackwardEuler()\n",
    "final_time = 4 * π\n",
    "num_steps = 256\n",
    "dt = Constant(final_time / num_steps)\n",
    "solver = irksome.TimeStepper(F, method, t, dt, z)"
   ]
  },
  {
   "cell_type": "code",
   "execution_count": null,
   "id": "f2cec3e1-4986-43e7-860b-725a7cf0b177",
   "metadata": {},
   "outputs": [],
   "source": [
    "zs = [z.copy(deepcopy=True)]\n",
    "for step in tqdm.trange(num_steps):\n",
    "    solver.advance()\n",
    "    zs.append(z.copy(deepcopy=True))\n",
    "    t.assign(t + dt)"
   ]
  },
  {
   "cell_type": "code",
   "execution_count": null,
   "id": "1043a44c-bb3f-4f56-a933-b7c7116870e5",
   "metadata": {},
   "outputs": [],
   "source": [
    "hmin = np.array([z.subfunctions[0].dat.data_ro.min()]).min()\n",
    "hmax = np.array([z.subfunctions[0].dat.data_ro.max()]).max()\n",
    "hmin, hmax"
   ]
  },
  {
   "cell_type": "code",
   "execution_count": null,
   "id": "1e1809c9-e0f6-4187-9bd8-f893b23c2942",
   "metadata": {},
   "outputs": [],
   "source": [
    "Emin = np.array([z.subfunctions[1].dat.data_ro.min() for z in zs]).min()\n",
    "Emax = np.array([z.subfunctions[1].dat.data_ro.max() for z in zs]).max()\n",
    "Emin, Emax"
   ]
  },
  {
   "cell_type": "code",
   "execution_count": null,
   "id": "4de5f9f8-236a-48f7-82f3-9151c7d46acb",
   "metadata": {},
   "outputs": [],
   "source": [
    "%%capture\n",
    "\n",
    "fig, axes = plt.subplots(nrows=1, ncols=2, sharex=True, sharey=True)\n",
    "for ax in axes:\n",
    "    ax.set_aspect(\"equal\")\n",
    "    ax.axis(\"off\")\n",
    "\n",
    "h, E = zs[0].subfunctions\n",
    "kw = {\"num_sample_points\": 1, \"shading\": \"gouraud\"}\n",
    "colors_h = firedrake.tripcolor(h, vmin=hmin, vmax=hmax, axes=axes[0], **kw)\n",
    "colors_E = firedrake.tripcolor(E, vmin=Emin, vmax=Emax, axes=axes[1], **kw)\n",
    "fn_plotter = firedrake.FunctionPlotter(mesh, num_sample_points=1)\n",
    "\n",
    "def animate(z):\n",
    "    h, E = z.subfunctions\n",
    "    colors_h.set_array(fn_plotter(h))\n",
    "    colors_E.set_array(fn_plotter(E))\n",
    "\n",
    "animation = FuncAnimation(fig, animate, zs, interval=1e3/24)"
   ]
  },
  {
   "cell_type": "code",
   "execution_count": null,
   "id": "0794bd35-7a3d-4c7a-b19a-1cfbbe5f68ac",
   "metadata": {},
   "outputs": [],
   "source": [
    "HTML(animation.to_html5_video())"
   ]
  }
 ],
 "metadata": {
  "kernelspec": {
   "display_name": "firedrake",
   "language": "python",
   "name": "firedrake"
  },
  "language_info": {
   "codemirror_mode": {
    "name": "ipython",
    "version": 3
   },
   "file_extension": ".py",
   "mimetype": "text/x-python",
   "name": "python",
   "nbconvert_exporter": "python",
   "pygments_lexer": "ipython3",
   "version": "3.11.9"
  }
 },
 "nbformat": 4,
 "nbformat_minor": 5
}
