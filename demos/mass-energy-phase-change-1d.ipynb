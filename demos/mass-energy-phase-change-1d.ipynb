{
 "cells": [
  {
   "cell_type": "code",
   "execution_count": null,
   "id": "32da7bae-af93-4761-8aaa-3336cb1e8780",
   "metadata": {},
   "outputs": [],
   "source": [
    "import numpy as np\n",
    "from numpy import pi as π\n",
    "import matplotlib.pyplot as plt\n",
    "from matplotlib.animation import FuncAnimation\n",
    "import tqdm\n",
    "import firedrake\n",
    "from firedrake import (\n",
    "    exp, max_value, Constant, inner, grad, dx as dζ, ds, dS, avg, jump\n",
    ")\n",
    "import irksome\n",
    "from irksome import Dt"
   ]
  },
  {
   "cell_type": "code",
   "execution_count": null,
   "id": "fcfe61d6-1444-4199-8546-e18b183973d2",
   "metadata": {},
   "outputs": [],
   "source": [
    "nx = 32\n",
    "mesh = firedrake.UnitIntervalMesh(nx)"
   ]
  },
  {
   "cell_type": "code",
   "execution_count": null,
   "id": "a7f619f8-02b9-4683-ba5b-6d62472b6440",
   "metadata": {},
   "outputs": [],
   "source": [
    "cg = firedrake.FiniteElement(\"CG\", \"interval\", 1)\n",
    "dg = firedrake.FiniteElement(\"DG\", \"interval\", 0)\n",
    "r = firedrake.FiniteElement(\"R\", \"interval\", 0)"
   ]
  },
  {
   "cell_type": "code",
   "execution_count": null,
   "id": "b7aacd22-7d86-4856-9c65-bcb9b5d9a60b",
   "metadata": {},
   "outputs": [],
   "source": [
    "R = firedrake.FunctionSpace(mesh, r)\n",
    "Q = firedrake.FunctionSpace(mesh, cg)\n",
    "\n",
    "h = firedrake.Function(R).assign(1.0)\n",
    "\n",
    "E = firedrake.Function(Q).assign(-1.0)"
   ]
  },
  {
   "cell_type": "code",
   "execution_count": null,
   "id": "87b3162b-c230-4ce8-8b24-e2b235af2be8",
   "metadata": {},
   "outputs": [],
   "source": [
    "Z = Q * R\n",
    "z = firedrake.Function(Z)\n",
    "\n",
    "z.subfunctions[0].assign(E)\n",
    "z.subfunctions[1].assign(h)"
   ]
  },
  {
   "cell_type": "markdown",
   "id": "4fb6e7bc-0ab9-4d3f-a52b-625671760b6c",
   "metadata": {},
   "source": [
    "For this 1D problem, the thickness is just a scalar variable.\n",
    "It evolves in time by the difference of accumulation and ablation."
   ]
  },
  {
   "cell_type": "code",
   "execution_count": null,
   "id": "8c3aabf7-640f-4905-9a97-83436ffcdf64",
   "metadata": {},
   "outputs": [],
   "source": [
    "def thickness_form(**kwargs):\n",
    "    field_names = (\"thickness\", \"accumulation\", \"ablation\", \"test_function\")\n",
    "    h, a, b, η = map(kwargs.get, field_names)\n",
    "    return (Dt(h) - a + b) * η * dζ"
   ]
  },
  {
   "cell_type": "markdown",
   "id": "73b485e9-f84b-4fa5-bf57-b18f5725546a",
   "metadata": {},
   "source": [
    "We're going to work primarily with the enthalpy or energy density rather than the temperature.\n",
    "But we still need to be able to compute the temperature because the diffusive heat flux is proportional to the temperature gradient:\n",
    "$$F = -k\\nabla T.$$\n",
    "For temperature values below the melting point,\n",
    "$$E = \\rho c_p T$$\n",
    "and we can then solve for the temperature.\n",
    "But once the temperature reaches the melting point, additional heat is converted to the latent heat of melting of the material."
   ]
  },
  {
   "cell_type": "code",
   "execution_count": null,
   "id": "0e7e63b4-e1b2-41a1-baf6-3b942f6f032b",
   "metadata": {},
   "outputs": [],
   "source": [
    "ρ = Constant(1.0)\n",
    "c_p = Constant(1.0)\n",
    "T_m = Constant(0.0)\n",
    "k = Constant(1.0)\n",
    "\n",
    "def temperature(E):\n",
    "    return firedrake.min_value(E / (ρ * c_p), T_m)"
   ]
  },
  {
   "cell_type": "markdown",
   "id": "fb395d12-ddd5-4c96-8fe1-f3ddef481a32",
   "metadata": {},
   "source": [
    "The fluxes of energy are from both advection and diffusion, and there are sources/sinks at both the top and bottom.\n",
    "In terrain-following coordinates, the variational form of the problem is\n",
    "$$\\begin{align}\n",
    "0 = & \\int\\left(h\\frac{\\partial E}{\\partial t}\\phi - hE\\omega\\frac{\\partial\\phi}{\\partial\\zeta} + h^{-1}k\\frac{\\partial T}{\\partial\\zeta}\\frac{\\partial\\phi}{\\partial\\zeta} - hQ\\phi\\right)d\\zeta \\\\\n",
    " & \\qquad\\qquad + \\dot aE_{\\dot a}\\,\\phi\\Big|_{\\zeta = 1} - \\dot bE_{\\dot b}\\,\\phi\\Big|_{\\zeta = 0}\n",
    "\\end{align}$$\n",
    "for all test functions $\\phi$.\n",
    "Some of the inputs to this equation are dependent on each other, but for now we write it and the resulting code in the most general form possible.\n",
    "For example, the vertical velocity $\\omega$ is equal to the (normalized) ablation rate $h^{-1}\\dot b$."
   ]
  },
  {
   "cell_type": "code",
   "execution_count": null,
   "id": "d0047ed2-a3f6-47ec-9746-08db72cc8790",
   "metadata": {},
   "outputs": [],
   "source": [
    "def energy_form(**kwargs):\n",
    "    field_names = (\n",
    "        \"energy\",\n",
    "        \"thickness\",\n",
    "        \"vertical_velocity\",\n",
    "        \"conductivity\",\n",
    "        \"accumulation\",\n",
    "        \"surface_energy\",\n",
    "        \"ablation\",\n",
    "        \"basal_energy\",\n",
    "        \"heat_source\",\n",
    "        \"test_function\"\n",
    "    )\n",
    "    E, h, ω, k, a, E_a, b, E_b, f_b, ϕ = map(kwargs.get, field_names)\n",
    "    T = temperature(E)\n",
    "    F_cells = (\n",
    "        h * Dt(E) * ϕ -\n",
    "        h * inner(E * ω, grad(ϕ)) +\n",
    "        k / h * inner(grad(T), grad(ϕ))\n",
    "    ) * dζ\n",
    "    F_facets = a * E_a * ϕ * ds((2,)) + (f_b - b * E_b) * ϕ * ds((1,))\n",
    "    return F_cells - F_facets"
   ]
  },
  {
   "cell_type": "markdown",
   "id": "6d069a4a-cd64-455f-b320-1f02a2a1fc54",
   "metadata": {},
   "source": [
    "Now we need to make all the inputs.\n",
    "First, we make the surface accumulation rate a periodic function of time:\n",
    "$$a = a_0 + \\delta a \\sin(2\\pi t / \\tau)$$\n",
    "where we choose the units of time so that a period is equal to $\\tau = 1$."
   ]
  },
  {
   "cell_type": "code",
   "execution_count": null,
   "id": "e1d80dec-0b71-4d26-8a29-7988dba0ff30",
   "metadata": {},
   "outputs": [],
   "source": [
    "t = Constant(0.0)\n",
    "\n",
    "a_0 = Constant(0.125)\n",
    "δa = Constant(0.125)\n",
    "a = a_0 + δa * firedrake.sin(2 * π * t)"
   ]
  },
  {
   "cell_type": "markdown",
   "id": "879b6f96-461c-4aab-bcdb-498ac4c6a381",
   "metadata": {},
   "source": [
    "We also need to decide what the energy density of the material accumulated at the surface is.\n",
    "The melting temperature is at a surface energy density of 0.0, so we'll need a negative value."
   ]
  },
  {
   "cell_type": "code",
   "execution_count": null,
   "id": "fa7ad578-335b-4518-9539-76e6b5fd6a83",
   "metadata": {},
   "outputs": [],
   "source": [
    "E_a = Constant(-1.0)"
   ]
  },
  {
   "cell_type": "markdown",
   "id": "8b23a9ea-88a9-4eb7-a6b7-fba55d86105e",
   "metadata": {},
   "source": [
    "Next we need to determine the ablation rate at the base.\n",
    "The ablation rate is determined by the temperature gradient in the material and the heat supplied at the base:\n",
    "$$\\dot b = \\frac{k\\nabla T + f_b}{\\rho L}$$\n",
    "It's worth piecing out the different scenarios for what the basal melt rate can do at different temperatures.\n",
    "If the temperature is below the melting point, then no melting can occur.\n",
    "If the ice base is at the melting point but the temperature gradient at the base is non-zero, then this conduction of heat into the column mitigates the total melt rate at the base.\n",
    "Finally, if the ice base is at the melting point and the energy density is above the melting point, then there is some finite interval in which the temperature is all at $T_m$ and thus the temperature gradient is zero.\n",
    "In that case all of the heat energy supplied at the base goes to melting.\n",
    "\n",
    "Finally, we want the system to settle into some steady limit cycle eventually.\n",
    "At the top of the domain, we're putting in mass at a rate of $\\dot a$ at an energy density $E_{\\dot a}$.\n",
    "We need to supply enough heat to (1) raise this material to the melting point, and (2) overcome the latent heat and melt all of what's accumulated in a single cycle.\n",
    "This means that the basal flux has to be equal to\n",
    "$$f_b = (E_{\\dot a} + \\rho L)a_0$$\n",
    "since the oscillatory term integrates to zero."
   ]
  },
  {
   "cell_type": "code",
   "execution_count": null,
   "id": "73ce548c-126a-4cc5-89f5-988e468528dd",
   "metadata": {},
   "outputs": [],
   "source": [
    "L = Constant(1.0)\n",
    "f_b = ρ * L * a_0\n",
    "\n",
    "T = temperature(E)\n",
    "b = firedrake.conditional(\n",
    "    E < ρ * c_p * T_m,\n",
    "    0.0,\n",
    "    (k * T.dx(0) + f_b) / (ρ * L)\n",
    ")"
   ]
  },
  {
   "cell_type": "markdown",
   "id": "ede5dfe3-7e77-4987-bd0f-df1e339fbf81",
   "metadata": {},
   "source": [
    "Finally, since we've assumed that there is no internal deformation or stretching of the material, the vertical velocity is equal to the melt rate."
   ]
  },
  {
   "cell_type": "code",
   "execution_count": null,
   "id": "7e72f03a-5598-440c-a8e0-3eedcf4d811a",
   "metadata": {},
   "outputs": [],
   "source": [
    "ω = -firedrake.as_vector((b / h,))"
   ]
  },
  {
   "cell_type": "code",
   "execution_count": null,
   "id": "c645e1e7-caae-48aa-861f-d6b46613f835",
   "metadata": {},
   "outputs": [],
   "source": [
    "E, h = firedrake.split(z)\n",
    "ϕ, η = firedrake.TestFunctions(Z)\n",
    "\n",
    "fields = {\n",
    "    \"energy\": E,\n",
    "    \"thickness\": h,\n",
    "    \"accumulation\": a,\n",
    "    \"ablation\": b,\n",
    "    \"vertical_velocity\": ω,\n",
    "    \"conductivity\": k,\n",
    "    \"heat_source\": f_b,\n",
    "    \"surface_energy\": E_a,\n",
    "    \"basal_energy\": ρ * L,\n",
    "}\n",
    "\n",
    "F_energy = energy_form(**fields, test_function=ϕ)\n",
    "F_thickness = thickness_form(**fields, test_function=η)\n",
    "F = F_energy + F_thickness"
   ]
  },
  {
   "cell_type": "code",
   "execution_count": null,
   "id": "2052bdc6-9c68-4dd2-9f7f-75c475369ff2",
   "metadata": {},
   "outputs": [],
   "source": [
    "num_steps_per_year = 24\n",
    "dt = Constant(1.0 / num_steps_per_year)\n",
    "method = irksome.BackwardEuler()\n",
    "solver = irksome.TimeStepper(F, method, t, dt, z)"
   ]
  },
  {
   "cell_type": "code",
   "execution_count": null,
   "id": "dfaa9f58-642c-4880-a521-ae8b7e491349",
   "metadata": {},
   "outputs": [],
   "source": [
    "zs = [z.copy(deepcopy=True)]\n",
    "final_time = 10.0\n",
    "num_steps = int(final_time * num_steps_per_year)\n",
    "for step in tqdm.trange(num_steps):\n",
    "    solver.advance()\n",
    "    t.assign(t + dt)\n",
    "    zs.append(z.copy(deepcopy=True))"
   ]
  },
  {
   "cell_type": "code",
   "execution_count": null,
   "id": "5575351b-3c3f-4add-b80a-761606e7c608",
   "metadata": {},
   "outputs": [],
   "source": [
    "E, h = z.subfunctions\n",
    "E.dat.data_ro.min(), E.dat.data_ro.max()"
   ]
  },
  {
   "cell_type": "code",
   "execution_count": null,
   "id": "48b9cd78-b066-4734-9b9d-52a677e88124",
   "metadata": {},
   "outputs": [],
   "source": [
    "hs = np.array([float(z.subfunctions[1]) for z in zs])\n",
    "hs.min(), hs.max()"
   ]
  },
  {
   "cell_type": "code",
   "execution_count": null,
   "id": "b7b809f9-5ab9-4edb-9fc0-6aff1f254640",
   "metadata": {},
   "outputs": [],
   "source": [
    "fig, ax = plt.subplots()\n",
    "ax.plot(hs);"
   ]
  }
 ],
 "metadata": {
  "kernelspec": {
   "display_name": "firedrake",
   "language": "python",
   "name": "firedrake"
  },
  "language_info": {
   "codemirror_mode": {
    "name": "ipython",
    "version": 3
   },
   "file_extension": ".py",
   "mimetype": "text/x-python",
   "name": "python",
   "nbconvert_exporter": "python",
   "pygments_lexer": "ipython3",
   "version": "3.11.9"
  }
 },
 "nbformat": 4,
 "nbformat_minor": 5
}
