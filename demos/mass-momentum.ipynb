{
 "cells": [
  {
   "cell_type": "code",
   "execution_count": null,
   "id": "a454a7c3-0141-46cb-acde-17b7be464e5d",
   "metadata": {},
   "outputs": [],
   "source": [
    "import numpy as np\n",
    "from numpy import pi as π\n",
    "import matplotlib.pyplot as plt\n",
    "from matplotlib.animation import FuncAnimation\n",
    "from IPython.display import HTML\n",
    "import tqdm\n",
    "import firedrake\n",
    "from firedrake import (\n",
    "    max_value, Constant, exp, sin, cos, inner, tr, sym, grad, dx, ds, dS, avg, jump\n",
    ")\n",
    "import irksome\n",
    "from irksome import Dt"
   ]
  },
  {
   "cell_type": "code",
   "execution_count": null,
   "id": "bb96f5df-efb9-4ef4-b079-1e81a06ed829",
   "metadata": {},
   "outputs": [],
   "source": [
    "mesh = firedrake.UnitDiskMesh(4)\n",
    "n = firedrake.FacetNormal(mesh)\n",
    "x = firedrake.SpatialCoordinate(mesh)"
   ]
  },
  {
   "cell_type": "code",
   "execution_count": null,
   "id": "a5832b20-2eb7-40bc-be46-2db772893434",
   "metadata": {},
   "outputs": [],
   "source": [
    "dg1 = firedrake.FiniteElement(\"DG\", \"triangle\", 1)\n",
    "cg2 = firedrake.FiniteElement(\"CG\", \"triangle\", 2)\n",
    "Q = firedrake.FunctionSpace(mesh, dg1)\n",
    "S = firedrake.FunctionSpace(mesh, cg2)"
   ]
  },
  {
   "cell_type": "code",
   "execution_count": null,
   "id": "b9f1d92b-96f4-49a0-a615-8780ce88a749",
   "metadata": {},
   "outputs": [],
   "source": [
    "r = Constant(0.25)\n",
    "b_0 = Constant(1.0)\n",
    "expr = b_0 * exp(-inner(x, x) / r**2)\n",
    "b = firedrake.Function(S).interpolate(expr)"
   ]
  },
  {
   "cell_type": "code",
   "execution_count": null,
   "id": "acdae83e-1f9c-4764-8430-019951c74f5d",
   "metadata": {},
   "outputs": [],
   "source": [
    "fig, ax = plt.subplots()\n",
    "ax.set_aspect(\"equal\")\n",
    "colors = firedrake.tripcolor(b, axes=ax)\n",
    "fig.colorbar(colors);"
   ]
  },
  {
   "cell_type": "code",
   "execution_count": null,
   "id": "685f9225-dbda-412a-aab2-26bca2ff80df",
   "metadata": {},
   "outputs": [],
   "source": [
    "h_0 = Constant(0.1)\n",
    "R = Constant(0.125)\n",
    "expr = h_0 * exp(-inner(x, x) / R**2)\n",
    "h = firedrake.Function(Q).project(expr)"
   ]
  },
  {
   "cell_type": "code",
   "execution_count": null,
   "id": "d6e87c0a-fbc5-4b02-bb69-5114502bf61a",
   "metadata": {},
   "outputs": [],
   "source": [
    "fig, ax = plt.subplots()\n",
    "ax.set_aspect(\"equal\")\n",
    "colors = firedrake.tripcolor(h, axes=ax)\n",
    "fig.colorbar(colors);"
   ]
  },
  {
   "cell_type": "code",
   "execution_count": null,
   "id": "d8d2a921-7699-4263-a21f-3e6789869757",
   "metadata": {},
   "outputs": [],
   "source": [
    "ρ = Constant(1.0)\n",
    "g = Constant(1.0)\n",
    "μ = Constant(1.0)\n",
    "γ = Constant(0.1)"
   ]
  },
  {
   "cell_type": "code",
   "execution_count": null,
   "id": "b942d8a3-4ada-4efc-84b1-aef3a47f9b31",
   "metadata": {},
   "outputs": [],
   "source": [
    "def ε(v):\n",
    "    return sym(grad(v))\n",
    "\n",
    "def momentum_form(**kwargs):\n",
    "    field_names = (\"velocity\", \"thickness\", \"surface\", \"test_function\")\n",
    "    u, h, s, v = map(kwargs.get, field_names)\n",
    "\n",
    "    parameter_names = (\"viscosity\", \"friction\")\n",
    "    μ, γ = map(kwargs.get, parameter_names)\n",
    "\n",
    "    F_viscosity = h * μ * (inner(ε(u), ε(v)) + tr(ε(u)) * tr(ε(v))) * dx\n",
    "    F_friction = γ * inner(u, v) * dx\n",
    "    F_gravity = (\n",
    "        -ρ * g * h * inner(grad(s), v) * dx +\n",
    "        ρ * g * avg(h) * inner(jump(s, n), avg(v)) * dS\n",
    "    )\n",
    "\n",
    "    return F_viscosity + F_friction - F_gravity"
   ]
  },
  {
   "cell_type": "code",
   "execution_count": null,
   "id": "f5839a8f-c022-4269-91ec-eb557589420c",
   "metadata": {},
   "outputs": [],
   "source": [
    "V = firedrake.VectorFunctionSpace(mesh, cg2)\n",
    "u = firedrake.Function(V)\n",
    "v = firedrake.TestFunction(V)\n",
    "\n",
    "fields = {\"velocity\": u, \"thickness\": h, \"surface\": b + h}\n",
    "parameters = {\"viscosity\": μ, \"friction\": γ}\n",
    "\n",
    "F = momentum_form(**fields, **parameters, test_function=v)\n",
    "bc = firedrake.DirichletBC(V, 0, \"on_boundary\")\n",
    "firedrake.solve(F == 0, u, bc)"
   ]
  },
  {
   "cell_type": "code",
   "execution_count": null,
   "id": "8178087e-b170-44f0-8192-e583f5450ec8",
   "metadata": {},
   "outputs": [],
   "source": [
    "fig, ax = plt.subplots()\n",
    "ax.set_aspect(\"equal\")\n",
    "colors = firedrake.streamplot(u, resolution=0.05, axes=ax)\n",
    "fig.colorbar(colors);"
   ]
  },
  {
   "cell_type": "code",
   "execution_count": null,
   "id": "1a587bcc-b827-4c18-8716-31cbcdedd0b8",
   "metadata": {},
   "outputs": [],
   "source": [
    "Z = Q * V\n",
    "z = firedrake.Function(Z)\n",
    "z.subfunctions[1].assign(u)\n",
    "z.subfunctions[0].assign(h)\n",
    "\n",
    "h, u = firedrake.split(z)\n",
    "ϕ, v = firedrake.TestFunctions(Z)"
   ]
  },
  {
   "cell_type": "code",
   "execution_count": null,
   "id": "52a63ad4-40ef-4a50-8636-19e4e5883b44",
   "metadata": {},
   "outputs": [],
   "source": [
    "def mass_form(**kwargs):\n",
    "    field_names = (\"thickness\", \"velocity\", \"accumulation\", \"test_function\")\n",
    "    h, u, a, ϕ = map(kwargs.get, field_names)\n",
    "\n",
    "    F_cells = (Dt(h) * ϕ - inner(h * u, grad(ϕ)) - a * ϕ) * dx\n",
    "    f = h * max_value(0, inner(u, n))\n",
    "    F_facets = jump(f) * jump(ϕ) * dS\n",
    "\n",
    "    return F_cells + F_facets"
   ]
  },
  {
   "cell_type": "code",
   "execution_count": null,
   "id": "f75884a3-3df0-40e3-85af-add40372e790",
   "metadata": {},
   "outputs": [],
   "source": [
    "a = Constant(0.0)  # TODO: make it do something"
   ]
  },
  {
   "cell_type": "code",
   "execution_count": null,
   "id": "c7a6d71f-333c-4f14-a333-13d8a07424eb",
   "metadata": {},
   "outputs": [],
   "source": [
    "fields = {\"velocity\": u, \"thickness\": h, \"surface\": b + h}\n",
    "parameters = {\"viscosity\": μ * exp(-Q / (R * T)), \"friction\": γ}\n",
    "F_velocity = momentum_form(**fields, **parameters, test_function=v)\n",
    "F_mass = mass_form(thickness=h, test_function=ϕ, velocity=u, accumulation=a)\n",
    "F = F_velocity + F_mass\n",
    "\n",
    "bcs = firedrake.DirichletBC(Z.sub(1), Constant((0.0, 0.0)), \"on_boundary\")\n",
    "\n",
    "final_time = 10.0\n",
    "num_steps = 1000\n",
    "dt = Constant(final_time / num_steps)\n",
    "t = Constant(0.0)\n",
    "\n",
    "method = irksome.RadauIIA(2)\n",
    "solver = irksome.TimeStepper(F, method, t, dt, z, bcs=bcs)"
   ]
  },
  {
   "cell_type": "code",
   "execution_count": null,
   "id": "523e6944-fde8-446f-89e0-ceec642828b0",
   "metadata": {},
   "outputs": [],
   "source": [
    "zs = [z.copy(deepcopy=True)]\n",
    "for step in tqdm.trange(num_steps):\n",
    "    solver.advance()\n",
    "    z.subfunctions[0].project(max_value(0, z.subfunctions[0]))\n",
    "    zs.append(z.copy(deepcopy=True))"
   ]
  },
  {
   "cell_type": "code",
   "execution_count": null,
   "id": "009695c5-dc98-4c28-a388-46565f35832e",
   "metadata": {},
   "outputs": [],
   "source": [
    "%%capture\n",
    "\n",
    "fig, ax = plt.subplots()\n",
    "ax.set_aspect(\"equal\")\n",
    "ax.axis(\"off\")\n",
    "\n",
    "h = zs[0].subfunctions[0]\n",
    "hmin, hmax = h.dat.data_ro.min(), h.dat.data_ro.max()\n",
    "kw = {\"num_sample_points\": 1, \"shading\": \"gouraud\"}\n",
    "colors = firedrake.tripcolor(h, vmin=hmin, vmax=hmax, axes=ax, **kw)\n",
    "fn_plotter = firedrake.FunctionPlotter(mesh, num_sample_points=1)\n",
    "\n",
    "def animate(z):\n",
    "    h = z.subfunctions[0]\n",
    "    colors.set_array(fn_plotter(h))\n",
    "\n",
    "animation = FuncAnimation(fig, animate, zs, interval=1e3/60)"
   ]
  },
  {
   "cell_type": "code",
   "execution_count": null,
   "id": "f6999338-4c83-4a8a-9070-60313842682f",
   "metadata": {},
   "outputs": [],
   "source": [
    "HTML(animation.to_html5_video())"
   ]
  }
 ],
 "metadata": {
  "kernelspec": {
   "display_name": "firedrake",
   "language": "python",
   "name": "firedrake"
  },
  "language_info": {
   "codemirror_mode": {
    "name": "ipython",
    "version": 3
   },
   "file_extension": ".py",
   "mimetype": "text/x-python",
   "name": "python",
   "nbconvert_exporter": "python",
   "pygments_lexer": "ipython3",
   "version": "3.11.9"
  }
 },
 "nbformat": 4,
 "nbformat_minor": 5
}
