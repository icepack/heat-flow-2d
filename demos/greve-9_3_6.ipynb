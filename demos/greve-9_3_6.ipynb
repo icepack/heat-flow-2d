{
 "cells": [
  {
   "cell_type": "markdown",
   "id": "14e04c7b-fa77-4ea6-b76b-d087f35a18f3",
   "metadata": {},
   "source": [
    "### Analytical solution\n",
    "\n",
    "The code below is to check our work on what the analytical solution of the 1D Stefan problem is."
   ]
  },
  {
   "cell_type": "code",
   "execution_count": null,
   "id": "a4489363-0ffb-4167-b844-f5b893139249",
   "metadata": {},
   "outputs": [],
   "source": [
    "import sympy\n",
    "from sympy import exp, simplify, integrate"
   ]
  },
  {
   "cell_type": "markdown",
   "id": "e54c59bc-e94c-455c-a30d-b7812134c2e2",
   "metadata": {},
   "source": [
    "Make some symbols representing the thickness, vertical coordinate, etc.\n",
    "Our proposed solution for the energy function involves some multiple integrals, so we have to introduce symbols not just for the vertical coordinate $\\zeta$, but also some auxiliary integration variables $\\zeta_1$, $\\zeta_2$."
   ]
  },
  {
   "cell_type": "code",
   "execution_count": null,
   "id": "9c9cb05c-44c4-425e-9bb3-30993d581a2e",
   "metadata": {},
   "outputs": [],
   "source": [
    "h, κ, ζ, ζ_1, ζ_2, ζ_m, E_m, E_s = sympy.symbols(\n",
    "    \"h κ ζ ζ_1 ζ_2 ζ_m E_m E_s\", real=True, positive=True\n",
    ")"
   ]
  },
  {
   "cell_type": "markdown",
   "id": "ebf5faa6-05b6-4e8d-af7b-30ae88580110",
   "metadata": {},
   "source": [
    "We separately introduce a symbol for the vertical velocity $\\omega$.\n",
    "All of the previous symbols are positive; here we only assume that the vertical velocity is non-zero."
   ]
  },
  {
   "cell_type": "code",
   "execution_count": null,
   "id": "7ee1755b-61b0-4931-a8eb-11eee156cd01",
   "metadata": {},
   "outputs": [],
   "source": [
    "ω = sympy.symbols(\"ω\", real=True, nonzero=True)"
   ]
  },
  {
   "cell_type": "markdown",
   "id": "53ba07c3-35fa-44e5-83ce-418ad841b1cc",
   "metadata": {},
   "source": [
    "Next, we introduce the heating term $Q$ as a symbolic uninterpreted function of $\\zeta$."
   ]
  },
  {
   "cell_type": "code",
   "execution_count": null,
   "id": "5dca6eed-6404-40c7-98a8-d6fc186497d6",
   "metadata": {},
   "outputs": [],
   "source": [
    "Q = sympy.Function(\"Q\", real=True, positive=True)(ζ)"
   ]
  },
  {
   "cell_type": "markdown",
   "id": "3b80b073-5912-42af-a9bc-f54e5074a7d3",
   "metadata": {},
   "source": [
    "Next we introduce the integrating factor $\\phi$ and an auxiliary quantity $W$ which will make the later definition of $E$ much shorter."
   ]
  },
  {
   "cell_type": "code",
   "execution_count": null,
   "id": "57b8c837-50f7-4026-9363-cd5a481fb3bd",
   "metadata": {},
   "outputs": [],
   "source": [
    "ϕ = h**2 * ω / κ * (ζ - ζ_m)"
   ]
  },
  {
   "cell_type": "code",
   "execution_count": null,
   "id": "40b5e6f4-065d-46cc-8dce-bcb758020d9c",
   "metadata": {},
   "outputs": [],
   "source": [
    "W = h * integrate(Q.subs({ζ: ζ_1}), (ζ_1, ζ, 1)) - h * ω * E_s\n",
    "W"
   ]
  },
  {
   "cell_type": "markdown",
   "id": "9ed8479f-2c05-4373-9b3c-38672c6fa79b",
   "metadata": {},
   "source": [
    "Our proposed expression for the energy function, obtained from the method of integrating factors."
   ]
  },
  {
   "cell_type": "code",
   "execution_count": null,
   "id": "cde3dc16-5913-4671-b488-bcde298cbedf",
   "metadata": {},
   "outputs": [],
   "source": [
    "E = simplify(\n",
    "    exp(ϕ) * E_m + (h / κ) * exp(ϕ) * integrate((exp(-ϕ) * W).subs({ζ: ζ_2}), (ζ_2, ζ_m, ζ))\n",
    ")\n",
    "E"
   ]
  },
  {
   "cell_type": "markdown",
   "id": "ec7bbefb-938d-415c-b5ab-b4e64968230e",
   "metadata": {},
   "source": [
    "Let's check if this function actually is a solution of the boundary-value problem.\n",
    "First, we'll evaluate the differential operator on it.\n",
    "If we did this correctly, we should just get $h\\cdot Q$ as the result."
   ]
  },
  {
   "cell_type": "code",
   "execution_count": null,
   "id": "81528c3c-239a-4ad1-9df2-e1f0abcca294",
   "metadata": {},
   "outputs": [],
   "source": [
    "simplify(h * ω * E - κ / h * E.diff(ζ)).diff(ζ)"
   ]
  },
  {
   "cell_type": "markdown",
   "id": "26f43cb5-6ea4-476a-bc09-38e89ce40162",
   "metadata": {},
   "source": [
    "Now let's see if the surface boundary condition is correct.\n",
    "If we did this right, we should just get back $f_s$."
   ]
  },
  {
   "cell_type": "code",
   "execution_count": null,
   "id": "ba7181a2-ffe6-4a88-a0bb-0e478191f581",
   "metadata": {},
   "outputs": [],
   "source": [
    "simplify((h * ω * E - κ / h * E.diff(ζ)).subs({ζ: 1}))"
   ]
  },
  {
   "cell_type": "markdown",
   "id": "6d23b7d0-6427-4c98-b84f-822b928fc8ae",
   "metadata": {},
   "source": [
    "Now let's see what the conductive heat flux is at the transition depth $\\zeta_m$.\n",
    "The right value of $\\zeta_m$ makes this quantity equal to zero."
   ]
  },
  {
   "cell_type": "code",
   "execution_count": null,
   "id": "0b4a4b73-274e-4aa4-bdec-b7b921a4afc1",
   "metadata": {},
   "outputs": [],
   "source": [
    "residual = simplify((κ / h * E.diff(ζ)).subs({ζ: ζ_m}))\n",
    "residual"
   ]
  },
  {
   "cell_type": "markdown",
   "id": "318171e0-8c84-4194-84b6-d2c4a36e7c63",
   "metadata": {},
   "source": [
    "If the volumetric heating is simple enough, then we might be able to solve explicitly for the transition depth.\n",
    "For example, for a power-law fluid in simple $xz$-shear, the strain heating rate has the form\n",
    "$$Q = Q_0(1 - \\zeta)^{n + 1}$$\n",
    "where $n = 1$ for a Newtonian fluid.\n",
    "Then the equation to be solved is\n",
    "$$\\begin{align}\n",
    "0 & = \\omega\\Delta E + \\int_{\\zeta_m}^1Q(\\zeta)d\\zeta \\\\\n",
    "& = \\omega\\Delta E - Q_0\\frac{(1 - \\zeta)^{n + 2}}{n + 2}\\Big|_{\\zeta_m}^1 \\\\\n",
    "& = \\omega\\Delta E + \\frac{Q_0}{n + 2}(1 - \\zeta_m)^{n + 2}\n",
    "\\end{align}$$\n",
    "and so, remembering again that $\\omega$ is negative,\n",
    "$$\n",
    "\\zeta_m = 1 - \\left(-(n + 2)\\frac{\\omega\\Delta E}{Q_0}\\right)^{1/(n + 2)}.\n",
    "$$\n",
    "Moreover, we can see immediately that $Q_0$ has to exceed $(n + 2)\\omega\\Delta E$ in order to have a cold-temperate transition within the fluid column."
   ]
  },
  {
   "cell_type": "markdown",
   "id": "72751143-153d-49f5-b5ed-b7edb8aaf666",
   "metadata": {},
   "source": [
    "### Numerical solution\n",
    "\n",
    "Now we'll try to solve the boundary value problem numerically and check that it matches the exact solution.\n",
    "The example in the Greve and Blatter book uses the following physical parameters.\n",
    "\n",
    "| name | symbol | value\n",
    "| ---- | ---- | ----\n",
    "| thickness | $h$ | 200 m\n",
    "| density | $\\rho$ | 917 kg m${}^{-3}$\n",
    "| heat capacity | $c_p$ | 2.09 kJ kg${}^{-1}$ ${}^\\circ$C${}^{-1}$\n",
    "| diffusivity | $\\kappa$ | 32.16 m${}^2$ yr${}^{-1}$\n",
    "| vertical velocity | $u_z$ | 0.2 m yr${}^{-1}$\n",
    "| surface temperature | $T_s$ | -3 ${}^\\circ$C\n",
    "| surface slope | $\\gamma$ | 4${}^\\circ$\n",
    "| ice fluidity | $A$ | 8.02 $\\times$ 10${}^{-8}$ yr${}^{-1}$ kPa ${}^{-3}$"
   ]
  },
  {
   "cell_type": "code",
   "execution_count": null,
   "id": "b410c046-98b5-441b-bc88-74ac2c66117c",
   "metadata": {},
   "outputs": [],
   "source": [
    "import numpy as np\n",
    "from numpy import pi as π\n",
    "import matplotlib.pyplot as plt\n",
    "import tqdm\n",
    "import firedrake\n",
    "from firedrake import max_value, min_value, Constant, conditional, inner, grad, dx, ds\n",
    "import irksome\n",
    "from irksome import Dt"
   ]
  },
  {
   "cell_type": "code",
   "execution_count": null,
   "id": "d1bdd3cd-7bb6-4b22-be3f-2acd6f63b830",
   "metadata": {},
   "outputs": [],
   "source": [
    "year = 365.25 * 24 * 60 * 60\n",
    "n = 3\n",
    "ρ = Constant(917.0)                # kg / m^3\n",
    "c_p = Constant(2.09)               # kJ / kg / C\n",
    "κ = Constant(32.16)                # m^2 / yr\n",
    "g = Constant(9.81)                 # m / s^2\n",
    "h = Constant(200.0)                # m\n",
    "Q = 139                            # kJ / mol\n",
    "R = 8.314e-3                       # kJ / mol K\n",
    "T = 273.15 - 3                     # K\n",
    "A_0 = 1.916e3 * year * 1e9         # 1 / yr / kPa^3\n",
    "A = Constant(A_0 * np.exp(-Q / (R * T)))\n",
    "θ = 4\n",
    "γ = Constant(np.sin(2 * π * θ / 360))\n",
    "u_z = Constant(0.2)                # m / yr"
   ]
  },
  {
   "cell_type": "code",
   "execution_count": null,
   "id": "e3aa8aba-4911-4e94-b928-28efba7ae4d1",
   "metadata": {},
   "outputs": [],
   "source": [
    "τ = (ρ * g * h / 1e3) * γ\n",
    "print(f\"Driving stress: {float(τ):.2f} kPa\")"
   ]
  },
  {
   "cell_type": "code",
   "execution_count": null,
   "id": "0dd2fbfe-da7d-40b6-ac9a-0b8a6eda1f37",
   "metadata": {},
   "outputs": [],
   "source": [
    "Q_0 = 2 * A * τ**(n + 1)\n",
    "print(f\"Max strain heating: {float(Q_0):.2f} kJ / m^3 / yr\")"
   ]
  },
  {
   "cell_type": "code",
   "execution_count": null,
   "id": "c6b0b621-3cd0-4049-986c-f8c1cecbb28e",
   "metadata": {},
   "outputs": [],
   "source": [
    "T_m = 273.15\n",
    "ΔE = ρ * c_p * (T_m - T)\n",
    "ω = u_z / h\n",
    "print(f\"Advection / production ratio: {float((n + 2) * ΔE * ω / Q_0):.2f}\")"
   ]
  },
  {
   "cell_type": "code",
   "execution_count": null,
   "id": "cd1c19ed-e248-42db-bca3-55b0e8232a2a",
   "metadata": {},
   "outputs": [],
   "source": [
    "ζ_m = float(1 - ((n + 2) * ΔE * ω / Q_0) ** (1 / (n + 2)))\n",
    "print(f\"Height of CTS: {ζ_m:.2f}\")"
   ]
  },
  {
   "cell_type": "code",
   "execution_count": null,
   "id": "29be2b6e-92d1-497e-b972-7d256749f99f",
   "metadata": {},
   "outputs": [],
   "source": [
    "def energy_form(**kwargs):\n",
    "    field_names = (\n",
    "        \"energy\",\n",
    "        \"test_function\",\n",
    "        \"thickness\",\n",
    "        \"velocity\",\n",
    "        \"sources\",\n",
    "        \"energy_inflow\",\n",
    "        \"diffusivity\",\n",
    "    )\n",
    "    E, ϕ, h, u, Q, E_in, κ = map(kwargs.get, field_names)\n",
    "\n",
    "    F = h * E * u - κ / h * grad(E)\n",
    "    G_cells = (h * Dt(E) * ϕ - inner(F, grad(ϕ)) - h * Q * ϕ) * dx\n",
    "    n = firedrake.FacetNormal(mesh)\n",
    "    G_outflow = h * E * max_value(0, inner(u, n)) * ϕ * ds\n",
    "    G_inflow = h * E_in * min_value(0, inner(u, n)) * ϕ * ds\n",
    "    return G_cells + G_outflow + G_inflow"
   ]
  },
  {
   "cell_type": "code",
   "execution_count": null,
   "id": "0ce0137e-50eb-4c51-97b2-7a366beb8e34",
   "metadata": {},
   "outputs": [],
   "source": [
    "u = firedrake.as_vector((-u_z,)) / h  # 1 / yr"
   ]
  },
  {
   "cell_type": "code",
   "execution_count": null,
   "id": "ed0ac4e1-72da-4c69-90de-d706196b98be",
   "metadata": {},
   "outputs": [],
   "source": [
    "nx = 128\n",
    "mesh = firedrake.UnitIntervalMesh(nx)\n",
    "degree = 1\n",
    "element = firedrake.FiniteElement(\"CG\", \"interval\", degree)\n",
    "temperature_space = firedrake.FunctionSpace(mesh, element)"
   ]
  },
  {
   "cell_type": "code",
   "execution_count": null,
   "id": "c0505699-e19b-413a-88a9-fe027974400e",
   "metadata": {},
   "outputs": [],
   "source": [
    "ζ = firedrake.SpatialCoordinate(mesh)[0]\n",
    "E_s = ρ * c_p * (T - T_m)\n",
    "E = firedrake.Function(temperature_space)\n",
    "ϕ = firedrake.TestFunction(temperature_space)\n",
    "E.interpolate(ζ * E_s)\n",
    "fields = {\n",
    "    \"energy\": E,\n",
    "    \"test_function\": ϕ,\n",
    "    \"thickness\": h,\n",
    "    \"velocity\": u,\n",
    "    \"sources\": Q_0 * (1 - ζ) ** (n + 1),\n",
    "    \"energy_inflow\": E_s,\n",
    "    \"diffusivity\": firedrake.conditional(E <= 0.0, κ, 0),\n",
    "}\n",
    "F = energy_form(**fields)"
   ]
  },
  {
   "cell_type": "code",
   "execution_count": null,
   "id": "0f132857-3eaf-4e54-ae2d-86aed1c77175",
   "metadata": {},
   "outputs": [],
   "source": [
    "t = Constant(0.0)\n",
    "dt = Constant(0.25)\n",
    "final_time = 1000.0\n",
    "num_steps = int(final_time / float(dt))\n",
    "Es = [E.copy(deepcopy=True)]\n",
    "method = irksome.BackwardEuler()\n",
    "params = {\n",
    "    \"solver_parameters\": {\n",
    "        \"snes_max_it\": 5,\n",
    "        \"snes_convergence_test\": \"skip\",\n",
    "        \"ksp_type\": \"gmres\",\n",
    "    },\n",
    "}\n",
    "solver = irksome.TimeStepper(F, method, t, dt, E, **params)\n",
    "for step in tqdm.trange(num_steps):\n",
    "    solver.advance()\n",
    "    Es.append(E.copy(deepcopy=True))"
   ]
  },
  {
   "cell_type": "code",
   "execution_count": null,
   "id": "cef5753e-4bfa-4b49-a2d8-35895f1437eb",
   "metadata": {},
   "outputs": [],
   "source": [
    "fig, ax = plt.subplots()\n",
    "ax.set_ylim((-6e3, 1e3))\n",
    "firedrake.plot(Es[10], axes=ax)\n",
    "firedrake.plot(Es[200], axes=ax)\n",
    "firedrake.plot(Es[2000], axes=ax)\n",
    "firedrake.plot(Es[-1], axes=ax);"
   ]
  },
  {
   "cell_type": "code",
   "execution_count": null,
   "id": "12f3f250-dca0-41c5-b90d-9b30ea7dd801",
   "metadata": {},
   "outputs": [],
   "source": [
    "L = Constant(334)\n",
    "W = firedrake.Function(temperature_space).interpolate(firedrake.max_value(0, E) / (ρ * L))"
   ]
  },
  {
   "cell_type": "code",
   "execution_count": null,
   "id": "195ce815-e620-4ece-9eec-8a6922fb723b",
   "metadata": {},
   "outputs": [],
   "source": [
    "fig, ax = plt.subplots()\n",
    "firedrake.plot(W, axes=ax);"
   ]
  }
 ],
 "metadata": {
  "kernelspec": {
   "display_name": "firedrake",
   "language": "python",
   "name": "firedrake"
  },
  "language_info": {
   "codemirror_mode": {
    "name": "ipython",
    "version": 3
   },
   "file_extension": ".py",
   "mimetype": "text/x-python",
   "name": "python",
   "nbconvert_exporter": "python",
   "pygments_lexer": "ipython3",
   "version": "3.11.9"
  }
 },
 "nbformat": 4,
 "nbformat_minor": 5
}
